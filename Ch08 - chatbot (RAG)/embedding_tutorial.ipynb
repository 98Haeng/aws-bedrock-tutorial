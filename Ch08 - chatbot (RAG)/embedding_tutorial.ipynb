{
 "cells": [
  {
   "cell_type": "code",
   "execution_count": 19,
   "id": "6d176368",
   "metadata": {},
   "outputs": [],
   "source": [
    "import json\n",
    "import boto3\n",
    "import math\n",
    "import pandas as pd\n",
    "import numpy as np\n",
    "from numpy import dot\n",
    "from numpy.linalg import norm"
   ]
  },
  {
   "cell_type": "code",
   "execution_count": 4,
   "id": "c05ba3d6",
   "metadata": {},
   "outputs": [],
   "source": [
    "session = boto3.Session()\n",
    "\n",
    "bedrock = session.client(\n",
    "    service_name='bedrock-runtime',\n",
    "    region_name='us-east-1',\n",
    "    endpoint_url=\"https://bedrock-runtime.us-east-1.amazonaws.com\"\n",
    ")"
   ]
  },
  {
   "cell_type": "code",
   "execution_count": 5,
   "id": "01e794c0",
   "metadata": {},
   "outputs": [],
   "source": [
    "def get_embedding(text):\n",
    "    body = json.dumps({\"inputText\": text})\n",
    "    model_d = 'amazon.titan-embed-text-v1'\n",
    "    mime_type = 'application/json'\n",
    "    response = bedrock.invoke_model(body=body, modelId=model_d, accept=mime_type, contentType=mime_type)\n",
    "    response_body = json.loads(response.get('body').read())\n",
    "    embedding = response_body.get('embedding')\n",
    "    return embedding"
   ]
  },
  {
   "cell_type": "code",
   "execution_count": 8,
   "id": "429000ba",
   "metadata": {},
   "outputs": [],
   "source": [
    "embedding_result = get_embedding('저는 배가 고파요')"
   ]
  },
  {
   "cell_type": "code",
   "execution_count": 9,
   "id": "d98e321d",
   "metadata": {},
   "outputs": [
    {
     "data": {
      "text/plain": [
       "1536"
      ]
     },
     "execution_count": 9,
     "metadata": {},
     "output_type": "execute_result"
    }
   ],
   "source": [
    "len(embedding_result)"
   ]
  },
  {
   "cell_type": "code",
   "execution_count": 12,
   "id": "47137396",
   "metadata": {},
   "outputs": [
    {
     "data": {
      "text/html": [
       "<div>\n",
       "<style scoped>\n",
       "    .dataframe tbody tr th:only-of-type {\n",
       "        vertical-align: middle;\n",
       "    }\n",
       "\n",
       "    .dataframe tbody tr th {\n",
       "        vertical-align: top;\n",
       "    }\n",
       "\n",
       "    .dataframe thead th {\n",
       "        text-align: right;\n",
       "    }\n",
       "</style>\n",
       "<table border=\"1\" class=\"dataframe\">\n",
       "  <thead>\n",
       "    <tr style=\"text-align: right;\">\n",
       "      <th></th>\n",
       "      <th>text</th>\n",
       "    </tr>\n",
       "  </thead>\n",
       "  <tbody>\n",
       "    <tr>\n",
       "      <th>0</th>\n",
       "      <td>저는 배가 고파요</td>\n",
       "    </tr>\n",
       "    <tr>\n",
       "      <th>1</th>\n",
       "      <td>저기 배가 지나가네요</td>\n",
       "    </tr>\n",
       "    <tr>\n",
       "      <th>2</th>\n",
       "      <td>굶어서 허기가 지네요</td>\n",
       "    </tr>\n",
       "    <tr>\n",
       "      <th>3</th>\n",
       "      <td>허기 워기라는 게임이 있는데 즐거워</td>\n",
       "    </tr>\n",
       "    <tr>\n",
       "      <th>4</th>\n",
       "      <td>스팀에서 재밌는 거 해야지</td>\n",
       "    </tr>\n",
       "    <tr>\n",
       "      <th>5</th>\n",
       "      <td>스팀에어프라이어로 연어구이 해먹을거야</td>\n",
       "    </tr>\n",
       "  </tbody>\n",
       "</table>\n",
       "</div>"
      ],
      "text/plain": [
       "                   text\n",
       "0             저는 배가 고파요\n",
       "1           저기 배가 지나가네요\n",
       "2           굶어서 허기가 지네요\n",
       "3   허기 워기라는 게임이 있는데 즐거워\n",
       "4        스팀에서 재밌는 거 해야지\n",
       "5  스팀에어프라이어로 연어구이 해먹을거야"
      ]
     },
     "execution_count": 12,
     "metadata": {},
     "output_type": "execute_result"
    }
   ],
   "source": [
    "data = ['저는 배가 고파요',\n",
    "        '저기 배가 지나가네요',\n",
    "        '굶어서 허기가 지네요',\n",
    "        '허기 워기라는 게임이 있는데 즐거워',\n",
    "        '스팀에서 재밌는 거 해야지',\n",
    "        '스팀에어프라이어로 연어구이 해먹을거야']\n",
    "\n",
    "df = pd.DataFrame(data, columns=['text'])\n",
    "df"
   ]
  },
  {
   "cell_type": "code",
   "execution_count": 13,
   "id": "cb4a6ef0",
   "metadata": {},
   "outputs": [],
   "source": [
    "df['embedding'] = df.apply(lambda row: get_embedding(\n",
    "        row.text,\n",
    "    ), axis=1)"
   ]
  },
  {
   "cell_type": "code",
   "execution_count": 14,
   "id": "0da3bbc1",
   "metadata": {},
   "outputs": [
    {
     "data": {
      "text/html": [
       "<div>\n",
       "<style scoped>\n",
       "    .dataframe tbody tr th:only-of-type {\n",
       "        vertical-align: middle;\n",
       "    }\n",
       "\n",
       "    .dataframe tbody tr th {\n",
       "        vertical-align: top;\n",
       "    }\n",
       "\n",
       "    .dataframe thead th {\n",
       "        text-align: right;\n",
       "    }\n",
       "</style>\n",
       "<table border=\"1\" class=\"dataframe\">\n",
       "  <thead>\n",
       "    <tr style=\"text-align: right;\">\n",
       "      <th></th>\n",
       "      <th>text</th>\n",
       "      <th>embedding</th>\n",
       "    </tr>\n",
       "  </thead>\n",
       "  <tbody>\n",
       "    <tr>\n",
       "      <th>0</th>\n",
       "      <td>저는 배가 고파요</td>\n",
       "      <td>[-0.6953125, -0.14160156, -0.5625, 0.20800781,...</td>\n",
       "    </tr>\n",
       "    <tr>\n",
       "      <th>1</th>\n",
       "      <td>저기 배가 지나가네요</td>\n",
       "      <td>[0.15136719, -0.11669922, -0.44140625, 0.14062...</td>\n",
       "    </tr>\n",
       "    <tr>\n",
       "      <th>2</th>\n",
       "      <td>굶어서 허기가 지네요</td>\n",
       "      <td>[-0.15625, -0.36328125, -0.58203125, 0.4121093...</td>\n",
       "    </tr>\n",
       "    <tr>\n",
       "      <th>3</th>\n",
       "      <td>허기 워기라는 게임이 있는데 즐거워</td>\n",
       "      <td>[0.82421875, -0.6484375, -0.038085938, 0.21289...</td>\n",
       "    </tr>\n",
       "    <tr>\n",
       "      <th>4</th>\n",
       "      <td>스팀에서 재밌는 거 해야지</td>\n",
       "      <td>[0.27929688, -0.52734375, -0.0008430481, 0.248...</td>\n",
       "    </tr>\n",
       "    <tr>\n",
       "      <th>5</th>\n",
       "      <td>스팀에어프라이어로 연어구이 해먹을거야</td>\n",
       "      <td>[0.07421875, -0.37890625, 0.14257812, 0.141601...</td>\n",
       "    </tr>\n",
       "  </tbody>\n",
       "</table>\n",
       "</div>"
      ],
      "text/plain": [
       "                   text                                          embedding\n",
       "0             저는 배가 고파요  [-0.6953125, -0.14160156, -0.5625, 0.20800781,...\n",
       "1           저기 배가 지나가네요  [0.15136719, -0.11669922, -0.44140625, 0.14062...\n",
       "2           굶어서 허기가 지네요  [-0.15625, -0.36328125, -0.58203125, 0.4121093...\n",
       "3   허기 워기라는 게임이 있는데 즐거워  [0.82421875, -0.6484375, -0.038085938, 0.21289...\n",
       "4        스팀에서 재밌는 거 해야지  [0.27929688, -0.52734375, -0.0008430481, 0.248...\n",
       "5  스팀에어프라이어로 연어구이 해먹을거야  [0.07421875, -0.37890625, 0.14257812, 0.141601..."
      ]
     },
     "execution_count": 14,
     "metadata": {},
     "output_type": "execute_result"
    }
   ],
   "source": [
    "df"
   ]
  },
  {
   "cell_type": "code",
   "execution_count": 20,
   "id": "03a68fe9",
   "metadata": {},
   "outputs": [],
   "source": [
    "def cos_sim(A, B):\n",
    "    return dot(A, B)/(norm(A)*norm(B))\n",
    "\n",
    "def return_answer_candidate(df, query):\n",
    "    query_embedding = get_embedding(\n",
    "        query,\n",
    "    )\n",
    "    df[\"similarity\"] = df.embedding.apply(lambda x: cos_sim(np.array(x),\n",
    "                                                            np.array(query_embedding)))\n",
    "    results_co = df.sort_values(\"similarity\",\n",
    "                                ascending=False,\n",
    "                                ignore_index=True).iloc[:3, :]\n",
    "    return results_co.head(3)"
   ]
  },
  {
   "cell_type": "code",
   "execution_count": 21,
   "id": "b030e7bb",
   "metadata": {},
   "outputs": [
    {
     "data": {
      "text/html": [
       "<div>\n",
       "<style scoped>\n",
       "    .dataframe tbody tr th:only-of-type {\n",
       "        vertical-align: middle;\n",
       "    }\n",
       "\n",
       "    .dataframe tbody tr th {\n",
       "        vertical-align: top;\n",
       "    }\n",
       "\n",
       "    .dataframe thead th {\n",
       "        text-align: right;\n",
       "    }\n",
       "</style>\n",
       "<table border=\"1\" class=\"dataframe\">\n",
       "  <thead>\n",
       "    <tr style=\"text-align: right;\">\n",
       "      <th></th>\n",
       "      <th>text</th>\n",
       "      <th>embedding</th>\n",
       "      <th>similarity</th>\n",
       "    </tr>\n",
       "  </thead>\n",
       "  <tbody>\n",
       "    <tr>\n",
       "      <th>0</th>\n",
       "      <td>저는 배가 고파요</td>\n",
       "      <td>[-0.6953125, -0.14160156, -0.5625, 0.20800781,...</td>\n",
       "      <td>0.647040</td>\n",
       "    </tr>\n",
       "    <tr>\n",
       "      <th>1</th>\n",
       "      <td>굶어서 허기가 지네요</td>\n",
       "      <td>[-0.15625, -0.36328125, -0.58203125, 0.4121093...</td>\n",
       "      <td>0.622445</td>\n",
       "    </tr>\n",
       "    <tr>\n",
       "      <th>2</th>\n",
       "      <td>스팀에어프라이어로 연어구이 해먹을거야</td>\n",
       "      <td>[0.07421875, -0.37890625, 0.14257812, 0.141601...</td>\n",
       "      <td>0.591753</td>\n",
       "    </tr>\n",
       "  </tbody>\n",
       "</table>\n",
       "</div>"
      ],
      "text/plain": [
       "                   text                                          embedding  \\\n",
       "0             저는 배가 고파요  [-0.6953125, -0.14160156, -0.5625, 0.20800781,...   \n",
       "1           굶어서 허기가 지네요  [-0.15625, -0.36328125, -0.58203125, 0.4121093...   \n",
       "2  스팀에어프라이어로 연어구이 해먹을거야  [0.07421875, -0.37890625, 0.14257812, 0.141601...   \n",
       "\n",
       "   similarity  \n",
       "0    0.647040  \n",
       "1    0.622445  \n",
       "2    0.591753  "
      ]
     },
     "execution_count": 21,
     "metadata": {},
     "output_type": "execute_result"
    }
   ],
   "source": [
    "sim_result = return_answer_candidate(df, '아무 것도 안 먹었더니 꼬르륵 소리가나네')\n",
    "sim_result"
   ]
  }
 ],
 "metadata": {
  "kernelspec": {
   "display_name": "Python 3 (ipykernel)",
   "language": "python",
   "name": "python3"
  },
  "language_info": {
   "codemirror_mode": {
    "name": "ipython",
    "version": 3
   },
   "file_extension": ".py",
   "mimetype": "text/x-python",
   "name": "python",
   "nbconvert_exporter": "python",
   "pygments_lexer": "ipython3",
   "version": "3.9.12"
  }
 },
 "nbformat": 4,
 "nbformat_minor": 5
}
